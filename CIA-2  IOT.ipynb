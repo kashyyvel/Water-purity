{
 "cells": [
  {
   "cell_type": "code",
   "execution_count": 1,
   "id": "364f6701",
   "metadata": {},
   "outputs": [],
   "source": [
    "import numpy as np\n",
    "import pandas as pd\n",
    "import matplotlib.pyplot as plt"
   ]
  },
  {
   "cell_type": "code",
   "execution_count": 2,
   "id": "eb7c38c7",
   "metadata": {},
   "outputs": [],
   "source": [
    "ts_data = pd.read_csv(r'C:\\Users\\kashy\\turbidity.csv')"
   ]
  },
  {
   "cell_type": "code",
   "execution_count": 3,
   "id": "f9ae50f1",
   "metadata": {},
   "outputs": [
    {
     "data": {
      "text/html": [
       "<div>\n",
       "<style scoped>\n",
       "    .dataframe tbody tr th:only-of-type {\n",
       "        vertical-align: middle;\n",
       "    }\n",
       "\n",
       "    .dataframe tbody tr th {\n",
       "        vertical-align: top;\n",
       "    }\n",
       "\n",
       "    .dataframe thead th {\n",
       "        text-align: right;\n",
       "    }\n",
       "</style>\n",
       "<table border=\"1\" class=\"dataframe\">\n",
       "  <thead>\n",
       "    <tr style=\"text-align: right;\">\n",
       "      <th></th>\n",
       "      <th>Date</th>\n",
       "      <th>Turbidity</th>\n",
       "    </tr>\n",
       "  </thead>\n",
       "  <tbody>\n",
       "    <tr>\n",
       "      <th>0</th>\n",
       "      <td>01-01-2011</td>\n",
       "      <td>20.038210</td>\n",
       "    </tr>\n",
       "    <tr>\n",
       "      <th>1</th>\n",
       "      <td>12-01-2011</td>\n",
       "      <td>19.708710</td>\n",
       "    </tr>\n",
       "    <tr>\n",
       "      <th>2</th>\n",
       "      <td>24-01-2011</td>\n",
       "      <td>20.641247</td>\n",
       "    </tr>\n",
       "    <tr>\n",
       "      <th>3</th>\n",
       "      <td>04-02-2011</td>\n",
       "      <td>20.419380</td>\n",
       "    </tr>\n",
       "    <tr>\n",
       "      <th>4</th>\n",
       "      <td>16-02-2011</td>\n",
       "      <td>19.577298</td>\n",
       "    </tr>\n",
       "    <tr>\n",
       "      <th>...</th>\n",
       "      <td>...</td>\n",
       "      <td>...</td>\n",
       "    </tr>\n",
       "    <tr>\n",
       "      <th>345</th>\n",
       "      <td>14-11-2021</td>\n",
       "      <td>40.787799</td>\n",
       "    </tr>\n",
       "    <tr>\n",
       "      <th>346</th>\n",
       "      <td>26-11-2021</td>\n",
       "      <td>40.412594</td>\n",
       "    </tr>\n",
       "    <tr>\n",
       "      <th>347</th>\n",
       "      <td>07-12-2021</td>\n",
       "      <td>39.909099</td>\n",
       "    </tr>\n",
       "    <tr>\n",
       "      <th>348</th>\n",
       "      <td>19-12-2021</td>\n",
       "      <td>40.846416</td>\n",
       "    </tr>\n",
       "    <tr>\n",
       "      <th>349</th>\n",
       "      <td>31-12-2021</td>\n",
       "      <td>40.707756</td>\n",
       "    </tr>\n",
       "  </tbody>\n",
       "</table>\n",
       "<p>350 rows × 2 columns</p>\n",
       "</div>"
      ],
      "text/plain": [
       "           Date  Turbidity\n",
       "0    01-01-2011  20.038210\n",
       "1    12-01-2011  19.708710\n",
       "2    24-01-2011  20.641247\n",
       "3    04-02-2011  20.419380\n",
       "4    16-02-2011  19.577298\n",
       "..          ...        ...\n",
       "345  14-11-2021  40.787799\n",
       "346  26-11-2021  40.412594\n",
       "347  07-12-2021  39.909099\n",
       "348  19-12-2021  40.846416\n",
       "349  31-12-2021  40.707756\n",
       "\n",
       "[350 rows x 2 columns]"
      ]
     },
     "execution_count": 3,
     "metadata": {},
     "output_type": "execute_result"
    }
   ],
   "source": [
    "ts_data"
   ]
  },
  {
   "cell_type": "code",
   "execution_count": 4,
   "id": "9a37ae8a",
   "metadata": {},
   "outputs": [],
   "source": [
    "ts_data['Date'] = pd.to_datetime(ts_data['Date'], format='%d-%m-%Y')"
   ]
  },
  {
   "cell_type": "code",
   "execution_count": 5,
   "id": "4ff315d0",
   "metadata": {},
   "outputs": [],
   "source": [
    "ts_data.set_index('Date',inplace=True)"
   ]
  },
  {
   "cell_type": "code",
   "execution_count": 6,
   "id": "582e41e9",
   "metadata": {},
   "outputs": [
    {
     "data": {
      "text/html": [
       "<div>\n",
       "<style scoped>\n",
       "    .dataframe tbody tr th:only-of-type {\n",
       "        vertical-align: middle;\n",
       "    }\n",
       "\n",
       "    .dataframe tbody tr th {\n",
       "        vertical-align: top;\n",
       "    }\n",
       "\n",
       "    .dataframe thead th {\n",
       "        text-align: right;\n",
       "    }\n",
       "</style>\n",
       "<table border=\"1\" class=\"dataframe\">\n",
       "  <thead>\n",
       "    <tr style=\"text-align: right;\">\n",
       "      <th></th>\n",
       "      <th>Turbidity</th>\n",
       "    </tr>\n",
       "    <tr>\n",
       "      <th>Date</th>\n",
       "      <th></th>\n",
       "    </tr>\n",
       "  </thead>\n",
       "  <tbody>\n",
       "    <tr>\n",
       "      <th>2011-01-01</th>\n",
       "      <td>20.038210</td>\n",
       "    </tr>\n",
       "    <tr>\n",
       "      <th>2011-01-12</th>\n",
       "      <td>19.708710</td>\n",
       "    </tr>\n",
       "    <tr>\n",
       "      <th>2011-01-24</th>\n",
       "      <td>20.641247</td>\n",
       "    </tr>\n",
       "    <tr>\n",
       "      <th>2011-02-04</th>\n",
       "      <td>20.419380</td>\n",
       "    </tr>\n",
       "    <tr>\n",
       "      <th>2011-02-16</th>\n",
       "      <td>19.577298</td>\n",
       "    </tr>\n",
       "    <tr>\n",
       "      <th>...</th>\n",
       "      <td>...</td>\n",
       "    </tr>\n",
       "    <tr>\n",
       "      <th>2021-11-14</th>\n",
       "      <td>40.787799</td>\n",
       "    </tr>\n",
       "    <tr>\n",
       "      <th>2021-11-26</th>\n",
       "      <td>40.412594</td>\n",
       "    </tr>\n",
       "    <tr>\n",
       "      <th>2021-12-07</th>\n",
       "      <td>39.909099</td>\n",
       "    </tr>\n",
       "    <tr>\n",
       "      <th>2021-12-19</th>\n",
       "      <td>40.846416</td>\n",
       "    </tr>\n",
       "    <tr>\n",
       "      <th>2021-12-31</th>\n",
       "      <td>40.707756</td>\n",
       "    </tr>\n",
       "  </tbody>\n",
       "</table>\n",
       "<p>350 rows × 1 columns</p>\n",
       "</div>"
      ],
      "text/plain": [
       "            Turbidity\n",
       "Date                 \n",
       "2011-01-01  20.038210\n",
       "2011-01-12  19.708710\n",
       "2011-01-24  20.641247\n",
       "2011-02-04  20.419380\n",
       "2011-02-16  19.577298\n",
       "...               ...\n",
       "2021-11-14  40.787799\n",
       "2021-11-26  40.412594\n",
       "2021-12-07  39.909099\n",
       "2021-12-19  40.846416\n",
       "2021-12-31  40.707756\n",
       "\n",
       "[350 rows x 1 columns]"
      ]
     },
     "execution_count": 6,
     "metadata": {},
     "output_type": "execute_result"
    }
   ],
   "source": [
    "ts_data"
   ]
  },
  {
   "cell_type": "code",
   "execution_count": 7,
   "id": "7d0a837b",
   "metadata": {},
   "outputs": [
    {
     "data": {
      "text/plain": [
       "[<matplotlib.lines.Line2D at 0x21092e3d160>]"
      ]
     },
     "execution_count": 7,
     "metadata": {},
     "output_type": "execute_result"
    },
    {
     "data": {
      "image/png": "[encoded data removed]",
      "text/plain": [
       "<Figure size 576x396 with 1 Axes>"
      ]
     },
     "metadata": {},
     "output_type": "display_data"
    }
   ],
   "source": [
    "plt.style.use('seaborn')\n",
    "rol_mean = ts_data.rolling(window=12).mean()\n",
    "rol_std = ts_data.rolling(window=12).std()\n",
    "\n",
    "plt.plot(ts_data, c='blue')\n",
    "plt.plot(rol_mean, c='yellow')\n",
    "plt.plot(rol_std, c='red')"
   ]
  },
  {
   "cell_type": "code",
   "execution_count": 8,
   "id": "5c922b29",
   "metadata": {},
   "outputs": [
    {
     "name": "stdout",
     "output_type": "stream",
     "text": [
      "(0.25205142906550726, 0.9750344672661406, 15, 334, {'1%': -3.450081345901191, '5%': -2.870232621465807, '10%': -2.571401168202517}, 664.8999100836352)\n"
     ]
    }
   ],
   "source": [
    "from statsmodels.tsa.stattools import adfuller\n",
    "dftest= adfuller(ts_data['Turbidity'])\n",
    "print(dftest)"
   ]
  },
  {
   "cell_type": "code",
   "execution_count": 9,
   "id": "e42ac6a2",
   "metadata": {},
   "outputs": [],
   "source": [
    "ts_data_new = ts_data['Turbidity'] -  ts_data['Turbidity'].shift(2)"
   ]
  },
  {
   "cell_type": "code",
   "execution_count": 10,
   "id": "38d6bb72",
   "metadata": {},
   "outputs": [
    {
     "data": {
      "text/plain": [
       "(-8.770878361614141,\n",
       " 2.5230548519343787e-14,\n",
       " 13,\n",
       " 334,\n",
       " {'1%': -3.450081345901191,\n",
       "  '5%': -2.870232621465807,\n",
       "  '10%': -2.571401168202517},\n",
       " 671.636741870082)"
      ]
     },
     "execution_count": 10,
     "metadata": {},
     "output_type": "execute_result"
    }
   ],
   "source": [
    "adfuller(ts_data_new.dropna())"
   ]
  },
  {
   "cell_type": "code",
   "execution_count": 11,
   "id": "a173c865",
   "metadata": {},
   "outputs": [
    {
     "name": "stderr",
     "output_type": "stream",
     "text": [
      "C:\\Users\\kashy\\anaconda3\\lib\\site-packages\\statsmodels\\tsa\\stattools.py:657: FutureWarning: The default number of lags is changing from 40 tomin(int(10 * np.log10(nobs)), nobs - 1) after 0.12is released. Set the number of lags to an integer to  silence this warning.\n",
      "  warnings.warn(\n",
      "C:\\Users\\kashy\\anaconda3\\lib\\site-packages\\statsmodels\\tsa\\stattools.py:667: FutureWarning: fft=True will become the default after the release of the 0.12 release of statsmodels. To suppress this warning, explicitly set fft=False.\n",
      "  warnings.warn(\n",
      "C:\\Users\\kashy\\anaconda3\\lib\\site-packages\\statsmodels\\tsa\\stattools.py:1024: FutureWarning: The default number of lags is changing from 40 tomin(int(10 * np.log10(nobs)), nobs // 2 - 1) after 0.12is released. Set the number of lags to an integer to  silence this warning.\n",
      "  warnings.warn(\n"
     ]
    },
    {
     "data": {
      "text/plain": [
       "[<matplotlib.lines.Line2D at 0x210975c2f40>]"
      ]
     },
     "execution_count": 11,
     "metadata": {},
     "output_type": "execute_result"
    },
    {
     "data": {
      "image/png": "[encoded data removed]",
      "text/plain": [
       "<Figure size 576x396 with 2 Axes>"
      ]
     },
     "metadata": {},
     "output_type": "display_data"
    }
   ],
   "source": [
    "from statsmodels.tsa.stattools import acf,pacf\n",
    "\n",
    "acf_plot = acf(ts_data_new.dropna())\n",
    "pacf_plot = pacf(ts_data_new.dropna())\n",
    "\n",
    "plt.subplot(211)\n",
    "plt.plot(acf_plot)\n",
    "plt.subplot(212)\n",
    "plt.plot(pacf_plot)"
   ]
  },
  {
   "cell_type": "code",
   "execution_count": 12,
   "id": "6295755e",
   "metadata": {},
   "outputs": [
    {
     "name": "stderr",
     "output_type": "stream",
     "text": [
      "C:\\Users\\kashy\\anaconda3\\lib\\site-packages\\statsmodels\\tsa\\base\\tsa_model.py:581: ValueWarning: A date index has been provided, but it has no associated frequency information and so will be ignored when e.g. forecasting.\n",
      "  warnings.warn('A date index has been provided, but it has no'\n",
      "C:\\Users\\kashy\\anaconda3\\lib\\site-packages\\statsmodels\\tsa\\base\\tsa_model.py:581: ValueWarning: A date index has been provided, but it has no associated frequency information and so will be ignored when e.g. forecasting.\n",
      "  warnings.warn('A date index has been provided, but it has no'\n",
      "C:\\Users\\kashy\\anaconda3\\lib\\site-packages\\statsmodels\\tsa\\base\\tsa_model.py:581: ValueWarning: A date index has been provided, but it has no associated frequency information and so will be ignored when e.g. forecasting.\n",
      "  warnings.warn('A date index has been provided, but it has no'\n"
     ]
    }
   ],
   "source": [
    "from statsmodels.tsa.arima.model import ARIMA\n",
    "model = ARIMA(ts_data, seasonal_order=(2,2,1,12))\n",
    "model_fit = model.fit()"
   ]
  },
  {
   "cell_type": "code",
   "execution_count": 13,
   "id": "61f60d85",
   "metadata": {},
   "outputs": [
    {
     "name": "stderr",
     "output_type": "stream",
     "text": [
      "C:\\Users\\kashy\\anaconda3\\lib\\site-packages\\statsmodels\\tsa\\base\\tsa_model.py:376: ValueWarning: No supported index is available. Prediction results will be given with an integer index beginning at `start`.\n",
      "  warnings.warn('No supported index is available.'\n"
     ]
    }
   ],
   "source": [
    "res = model_fit.forecast(24)"
   ]
  },
  {
   "cell_type": "code",
   "execution_count": 14,
   "id": "dfe84a77",
   "metadata": {},
   "outputs": [],
   "source": [
    "res = pd.DataFrame(res)\n",
    "res.columns=['Turbidity']\n",
    "ts_data_pred = pd.DataFrame(ts_data)\n",
    "ts_data_pred = ts_data_pred.append(res)\n"
   ]
  },
  {
   "cell_type": "code",
   "execution_count": 15,
   "id": "52d94b7f",
   "metadata": {},
   "outputs": [
    {
     "data": {
      "text/plain": [
       "[<matplotlib.lines.Line2D at 0x2109d5f73d0>]"
      ]
     },
     "execution_count": 15,
     "metadata": {},
     "output_type": "execute_result"
    },
    {
     "data": {
      "image/png": "[encoded data removed]",
      "text/plain": [
       "<Figure size 576x396 with 1 Axes>"
      ]
     },
     "metadata": {},
     "output_type": "display_data"
    }
   ],
   "source": [
    "plt.plot(ts_data_pred[:350])"
   ]
  },
  {
   "cell_type": "code",
   "execution_count": 16,
   "id": "3108286d",
   "metadata": {},
   "outputs": [],
   "source": [
    "from datetime import datetime, timedelta\n",
    "\n",
    "start_date = datetime(2022, 1, 1)\n",
    "\n",
    "date_list = []\n",
    "for i in range(len(ts_data_pred[350:])):\n",
    "    date_list.append(start_date + timedelta(days=i*11))"
   ]
  },
  {
   "cell_type": "code",
   "execution_count": 19,
   "id": "02587cce",
   "metadata": {},
   "outputs": [
    {
     "data": {
      "text/html": [
       "<div>\n",
       "<style scoped>\n",
       "    .dataframe tbody tr th:only-of-type {\n",
       "        vertical-align: middle;\n",
       "    }\n",
       "\n",
       "    .dataframe tbody tr th {\n",
       "        vertical-align: top;\n",
       "    }\n",
       "\n",
       "    .dataframe thead th {\n",
       "        text-align: right;\n",
       "    }\n",
       "</style>\n",
       "<table border=\"1\" class=\"dataframe\">\n",
       "  <thead>\n",
       "    <tr style=\"text-align: right;\">\n",
       "      <th></th>\n",
       "      <th>index</th>\n",
       "      <th>Turbidity</th>\n",
       "    </tr>\n",
       "  </thead>\n",
       "  <tbody>\n",
       "    <tr>\n",
       "      <th>0</th>\n",
       "      <td>2022-01-01</td>\n",
       "      <td>39.877023</td>\n",
       "    </tr>\n",
       "    <tr>\n",
       "      <th>1</th>\n",
       "      <td>2022-01-12</td>\n",
       "      <td>40.168312</td>\n",
       "    </tr>\n",
       "    <tr>\n",
       "      <th>2</th>\n",
       "      <td>2022-01-23</td>\n",
       "      <td>40.512109</td>\n",
       "    </tr>\n",
       "    <tr>\n",
       "      <th>3</th>\n",
       "      <td>2022-02-03</td>\n",
       "      <td>40.175708</td>\n",
       "    </tr>\n",
       "    <tr>\n",
       "      <th>4</th>\n",
       "      <td>2022-02-14</td>\n",
       "      <td>40.816547</td>\n",
       "    </tr>\n",
       "    <tr>\n",
       "      <th>5</th>\n",
       "      <td>2022-02-25</td>\n",
       "      <td>40.624872</td>\n",
       "    </tr>\n",
       "    <tr>\n",
       "      <th>6</th>\n",
       "      <td>2022-03-08</td>\n",
       "      <td>40.903862</td>\n",
       "    </tr>\n",
       "    <tr>\n",
       "      <th>7</th>\n",
       "      <td>2022-03-19</td>\n",
       "      <td>39.775786</td>\n",
       "    </tr>\n",
       "    <tr>\n",
       "      <th>8</th>\n",
       "      <td>2022-03-30</td>\n",
       "      <td>41.438575</td>\n",
       "    </tr>\n",
       "    <tr>\n",
       "      <th>9</th>\n",
       "      <td>2022-04-10</td>\n",
       "      <td>40.846172</td>\n",
       "    </tr>\n",
       "    <tr>\n",
       "      <th>10</th>\n",
       "      <td>2022-04-21</td>\n",
       "      <td>40.713858</td>\n",
       "    </tr>\n",
       "    <tr>\n",
       "      <th>11</th>\n",
       "      <td>2022-05-02</td>\n",
       "      <td>40.817325</td>\n",
       "    </tr>\n",
       "    <tr>\n",
       "      <th>12</th>\n",
       "      <td>2022-05-13</td>\n",
       "      <td>40.405988</td>\n",
       "    </tr>\n",
       "    <tr>\n",
       "      <th>13</th>\n",
       "      <td>2022-05-24</td>\n",
       "      <td>41.046237</td>\n",
       "    </tr>\n",
       "    <tr>\n",
       "      <th>14</th>\n",
       "      <td>2022-06-04</td>\n",
       "      <td>41.583818</td>\n",
       "    </tr>\n",
       "    <tr>\n",
       "      <th>15</th>\n",
       "      <td>2022-06-15</td>\n",
       "      <td>40.844246</td>\n",
       "    </tr>\n",
       "    <tr>\n",
       "      <th>16</th>\n",
       "      <td>2022-06-26</td>\n",
       "      <td>41.400292</td>\n",
       "    </tr>\n",
       "    <tr>\n",
       "      <th>17</th>\n",
       "      <td>2022-07-07</td>\n",
       "      <td>41.415861</td>\n",
       "    </tr>\n",
       "    <tr>\n",
       "      <th>18</th>\n",
       "      <td>2022-07-18</td>\n",
       "      <td>41.625212</td>\n",
       "    </tr>\n",
       "    <tr>\n",
       "      <th>19</th>\n",
       "      <td>2022-07-29</td>\n",
       "      <td>40.687787</td>\n",
       "    </tr>\n",
       "    <tr>\n",
       "      <th>20</th>\n",
       "      <td>2022-08-09</td>\n",
       "      <td>42.251613</td>\n",
       "    </tr>\n",
       "    <tr>\n",
       "      <th>21</th>\n",
       "      <td>2022-08-20</td>\n",
       "      <td>41.383355</td>\n",
       "    </tr>\n",
       "    <tr>\n",
       "      <th>22</th>\n",
       "      <td>2022-08-31</td>\n",
       "      <td>41.732508</td>\n",
       "    </tr>\n",
       "    <tr>\n",
       "      <th>23</th>\n",
       "      <td>2022-09-11</td>\n",
       "      <td>41.962352</td>\n",
       "    </tr>\n",
       "  </tbody>\n",
       "</table>\n",
       "</div>"
      ],
      "text/plain": [
       "        index  Turbidity\n",
       "0  2022-01-01  39.877023\n",
       "1  2022-01-12  40.168312\n",
       "2  2022-01-23  40.512109\n",
       "3  2022-02-03  40.175708\n",
       "4  2022-02-14  40.816547\n",
       "5  2022-02-25  40.624872\n",
       "6  2022-03-08  40.903862\n",
       "7  2022-03-19  39.775786\n",
       "8  2022-03-30  41.438575\n",
       "9  2022-04-10  40.846172\n",
       "10 2022-04-21  40.713858\n",
       "11 2022-05-02  40.817325\n",
       "12 2022-05-13  40.405988\n",
       "13 2022-05-24  41.046237\n",
       "14 2022-06-04  41.583818\n",
       "15 2022-06-15  40.844246\n",
       "16 2022-06-26  41.400292\n",
       "17 2022-07-07  41.415861\n",
       "18 2022-07-18  41.625212\n",
       "19 2022-07-29  40.687787\n",
       "20 2022-08-09  42.251613\n",
       "21 2022-08-20  41.383355\n",
       "22 2022-08-31  41.732508\n",
       "23 2022-09-11  41.962352"
      ]
     },
     "execution_count": 19,
     "metadata": {},
     "output_type": "execute_result"
    }
   ],
   "source": [
    "temp = ts_data_pred[350:].reset_index()\n",
    "temp['index'] =  date_list"
   ]
  },
  {
   "cell_type": "code",
   "execution_count": 21,
   "id": "b13a900f",
   "metadata": {},
   "outputs": [],
   "source": [
    "temp.set_index('index',inplace=True)"
   ]
  },
  {
   "cell_type": "code",
   "execution_count": 22,
   "id": "e302b85b",
   "metadata": {},
   "outputs": [
    {
     "data": {
      "text/html": [
       "<div>\n",
       "<style scoped>\n",
       "    .dataframe tbody tr th:only-of-type {\n",
       "        vertical-align: middle;\n",
       "    }\n",
       "\n",
       "    .dataframe tbody tr th {\n",
       "        vertical-align: top;\n",
       "    }\n",
       "\n",
       "    .dataframe thead th {\n",
       "        text-align: right;\n",
       "    }\n",
       "</style>\n",
       "<table border=\"1\" class=\"dataframe\">\n",
       "  <thead>\n",
       "    <tr style=\"text-align: right;\">\n",
       "      <th></th>\n",
       "      <th>Turbidity</th>\n",
       "    </tr>\n",
       "    <tr>\n",
       "      <th>Date</th>\n",
       "      <th></th>\n",
       "    </tr>\n",
       "  </thead>\n",
       "  <tbody>\n",
       "    <tr>\n",
       "      <th>2011-01-01</th>\n",
       "      <td>20.038210</td>\n",
       "    </tr>\n",
       "    <tr>\n",
       "      <th>2011-01-12</th>\n",
       "      <td>19.708710</td>\n",
       "    </tr>\n",
       "    <tr>\n",
       "      <th>2011-01-24</th>\n",
       "      <td>20.641247</td>\n",
       "    </tr>\n",
       "    <tr>\n",
       "      <th>2011-02-04</th>\n",
       "      <td>20.419380</td>\n",
       "    </tr>\n",
       "    <tr>\n",
       "      <th>2011-02-16</th>\n",
       "      <td>19.577298</td>\n",
       "    </tr>\n",
       "    <tr>\n",
       "      <th>...</th>\n",
       "      <td>...</td>\n",
       "    </tr>\n",
       "    <tr>\n",
       "      <th>2021-11-14</th>\n",
       "      <td>40.787799</td>\n",
       "    </tr>\n",
       "    <tr>\n",
       "      <th>2021-11-26</th>\n",
       "      <td>40.412594</td>\n",
       "    </tr>\n",
       "    <tr>\n",
       "      <th>2021-12-07</th>\n",
       "      <td>39.909099</td>\n",
       "    </tr>\n",
       "    <tr>\n",
       "      <th>2021-12-19</th>\n",
       "      <td>40.846416</td>\n",
       "    </tr>\n",
       "    <tr>\n",
       "      <th>2021-12-31</th>\n",
       "      <td>40.707756</td>\n",
       "    </tr>\n",
       "  </tbody>\n",
       "</table>\n",
       "<p>350 rows × 1 columns</p>\n",
       "</div>"
      ],
      "text/plain": [
       "            Turbidity\n",
       "Date                 \n",
       "2011-01-01  20.038210\n",
       "2011-01-12  19.708710\n",
       "2011-01-24  20.641247\n",
       "2011-02-04  20.419380\n",
       "2011-02-16  19.577298\n",
       "...               ...\n",
       "2021-11-14  40.787799\n",
       "2021-11-26  40.412594\n",
       "2021-12-07  39.909099\n",
       "2021-12-19  40.846416\n",
       "2021-12-31  40.707756\n",
       "\n",
       "[350 rows x 1 columns]"
      ]
     },
     "execution_count": 22,
     "metadata": {},
     "output_type": "execute_result"
    }
   ],
   "source": [
    "ts_data"
   ]
  },
  {
   "cell_type": "markdown",
   "id": "797805fd",
   "metadata": {},
   "source": [
    "# The red line below shows the predictions"
   ]
  },
  {
   "cell_type": "code",
   "execution_count": 25,
   "id": "01279822",
   "metadata": {},
   "outputs": [
    {
     "data": {
      "text/plain": [
       "[<matplotlib.lines.Line2D at 0x210a0b09e80>]"
      ]
     },
     "execution_count": 25,
     "metadata": {},
     "output_type": "execute_result"
    },
    {
     "data": {
      "image/png": "[encoded data removed]",
      "text/plain": [
       "<Figure size 576x396 with 1 Axes>"
      ]
     },
     "metadata": {},
     "output_type": "display_data"
    }
   ],
   "source": [
    "plt.plot(ts_data)\n",
    "plt.plot(temp,c='red')"
   ]
  },
  {
   "cell_type": "code",
   "execution_count": 29,
   "id": "f63cabab",
   "metadata": {},
   "outputs": [],
   "source": [
    "final = pd.concat([ts_data,temp])"
   ]
  },
  {
   "cell_type": "code",
   "execution_count": 30,
   "id": "54cb8d50",
   "metadata": {},
   "outputs": [
    {
     "data": {
      "text/html": [
       "<div>\n",
       "<style scoped>\n",
       "    .dataframe tbody tr th:only-of-type {\n",
       "        vertical-align: middle;\n",
       "    }\n",
       "\n",
       "    .dataframe tbody tr th {\n",
       "        vertical-align: top;\n",
       "    }\n",
       "\n",
       "    .dataframe thead th {\n",
       "        text-align: right;\n",
       "    }\n",
       "</style>\n",
       "<table border=\"1\" class=\"dataframe\">\n",
       "  <thead>\n",
       "    <tr style=\"text-align: right;\">\n",
       "      <th></th>\n",
       "      <th>Turbidity</th>\n",
       "    </tr>\n",
       "  </thead>\n",
       "  <tbody>\n",
       "    <tr>\n",
       "      <th>2011-01-01</th>\n",
       "      <td>20.038210</td>\n",
       "    </tr>\n",
       "    <tr>\n",
       "      <th>2011-01-12</th>\n",
       "      <td>19.708710</td>\n",
       "    </tr>\n",
       "    <tr>\n",
       "      <th>2011-01-24</th>\n",
       "      <td>20.641247</td>\n",
       "    </tr>\n",
       "    <tr>\n",
       "      <th>2011-02-04</th>\n",
       "      <td>20.419380</td>\n",
       "    </tr>\n",
       "    <tr>\n",
       "      <th>2011-02-16</th>\n",
       "      <td>19.577298</td>\n",
       "    </tr>\n",
       "    <tr>\n",
       "      <th>...</th>\n",
       "      <td>...</td>\n",
       "    </tr>\n",
       "    <tr>\n",
       "      <th>2022-07-29</th>\n",
       "      <td>40.687787</td>\n",
       "    </tr>\n",
       "    <tr>\n",
       "      <th>2022-08-09</th>\n",
       "      <td>42.251613</td>\n",
       "    </tr>\n",
       "    <tr>\n",
       "      <th>2022-08-20</th>\n",
       "      <td>41.383355</td>\n",
       "    </tr>\n",
       "    <tr>\n",
       "      <th>2022-08-31</th>\n",
       "      <td>41.732508</td>\n",
       "    </tr>\n",
       "    <tr>\n",
       "      <th>2022-09-11</th>\n",
       "      <td>41.962352</td>\n",
       "    </tr>\n",
       "  </tbody>\n",
       "</table>\n",
       "<p>374 rows × 1 columns</p>\n",
       "</div>"
      ],
      "text/plain": [
       "            Turbidity\n",
       "2011-01-01  20.038210\n",
       "2011-01-12  19.708710\n",
       "2011-01-24  20.641247\n",
       "2011-02-04  20.419380\n",
       "2011-02-16  19.577298\n",
       "...               ...\n",
       "2022-07-29  40.687787\n",
       "2022-08-09  42.251613\n",
       "2022-08-20  41.383355\n",
       "2022-08-31  41.732508\n",
       "2022-09-11  41.962352\n",
       "\n",
       "[374 rows x 1 columns]"
      ]
     },
     "execution_count": 30,
     "metadata": {},
     "output_type": "execute_result"
    }
   ],
   "source": [
    "final"
   ]
  },
  {
   "cell_type": "code",
   "execution_count": null,
   "id": "bc579eb3",
   "metadata": {},
   "outputs": [],
   "source": []
  }
 ],
 "metadata": {
  "kernelspec": {
   "display_name": "Python 3 (ipykernel)",
   "language": "python",
   "name": "python3"
  },
  "language_info": {
   "codemirror_mode": {
    "name": "ipython",
    "version": 3
   },
   "file_extension": ".py",
   "mimetype": "text/x-python",
   "name": "python",
   "nbconvert_exporter": "python",
   "pygments_lexer": "ipython3",
   "version": "3.9.7"
  }
 },
 "nbformat": 4,
 "nbformat_minor": 5
}
